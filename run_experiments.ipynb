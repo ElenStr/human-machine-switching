{
 "metadata": {
  "language_info": {
   "codemirror_mode": {
    "name": "ipython",
    "version": 3
   },
   "file_extension": ".py",
   "mimetype": "text/x-python",
   "name": "python",
   "nbconvert_exporter": "python",
   "pygments_lexer": "ipython3",
   "version": "3.8.10"
  },
  "orig_nbformat": 2,
  "kernelspec": {
   "name": "python3810jvsc74a57bd0f23faf4bfe871c203c8bec80520af5927fc7cb1ae3bd834ddf554ee587ad1c05",
   "display_name": "Python 3.8.10 64-bit"
  }
 },
 "nbformat": 4,
 "nbformat_minor": 2,
 "cells": [
  {
   "cell_type": "code",
   "execution_count": 1,
   "metadata": {},
   "outputs": [
    {
     "output_type": "execute_result",
     "data": {
      "text/plain": [
       "<torch._C.Generator at 0x6388fb0>"
      ]
     },
     "metadata": {},
     "execution_count": 1
    }
   ],
   "source": [
    "from experiments.experiments import train, evaluate\n",
    "from experiments.utils import *\n",
    "from agent.agents import *\n",
    "from agent.switching_agents import *\n",
    "from environments.env import * \n",
    "from definitions import ROOT_DIR\n",
    "\n",
    "from torch.optim import *\n",
    "import numpy as np\n",
    "import random \n",
    "import torch\n",
    "import pickle\n",
    "from copy import deepcopy\n",
    "\n",
    "\n",
    "np.random.seed(12345678)\n",
    "random.seed(12345678)\n",
    "torch.manual_seed(12345678)\n"
   ]
  },
  {
   "source": [
    "## Train baselines and 2-stage algorithm"
   ],
   "cell_type": "markdown",
   "metadata": {}
  },
  {
   "source": [
    "### Configure Environment"
   ],
   "cell_type": "markdown",
   "metadata": {}
  },
  {
   "cell_type": "code",
   "execution_count": 2,
   "metadata": {},
   "outputs": [],
   "source": [
    "env_generator = Environment()\n",
    "width = 3\n",
    "height = 20\n",
    "depth = height//3\n",
    "init_traffic_level = 'light'\n",
    "env_params = {'width' : width, 'height':height, 'init_traffic_level': init_traffic_level, 'depth': depth}\n",
    "env_generator_fn = lambda:env_generator.generate_grid_world(**env_params)\n",
    "n_actions = 3"
   ]
  },
  {
   "source": [
    "### Configure Agents"
   ],
   "cell_type": "markdown",
   "metadata": {}
  },
  {
   "cell_type": "code",
   "execution_count": 3,
   "metadata": {},
   "outputs": [],
   "source": [
    "# Human \n",
    "estimation_noise = 2.0\n",
    "switching_noise = 2.0\n",
    "c_H = 0.0\n",
    "\n",
    "# Machine\n",
    "\n",
    "# state size with string features\n",
    "n_state_features_strings = env_generator.n_state_strings(depth, width)\n",
    "\n",
    "# define state size in 1-hot encoding\n",
    "n_state_features_1hot =  env_generator.n_state_one_hot(depth, width)\n",
    "\n",
    "n_state_features = (n_state_features_strings, n_state_features_1hot)\n",
    "\n",
    "c_M = -0.2\n",
    "lr = 1e-4\n",
    "optimizer_fn = lambda params: RMSprop(params, lr)\n",
    "\n",
    "# Switching Agent\n",
    "epsilon = 0.1"
   ]
  },
  {
   "source": [
    "### Initialize Agents"
   ],
   "cell_type": "markdown",
   "metadata": {}
  },
  {
   "cell_type": "code",
   "execution_count": 4,
   "metadata": {},
   "outputs": [],
   "source": [
    "human  = NoisyDriverAgent(env_generator, noise_sd=estimation_noise, noise_sw=switching_noise, c_H=c_H)\n",
    "\n",
    "machine = MachineDriverAgent(n_state_features, n_actions, optimizer_fn, c_M=c_M)\n",
    "\n",
    "machine_only = FixedSwitchingMachine(n_state_features, optimizer_fn, c_M=c_M)\n",
    "\n",
    "human_only = FixedSwitchingHuman()\n",
    "\n",
    "switch_fixed_policies = SwitchingAgent(n_state_features, optimizer_fn, c_M=c_M, c_H=c_H, eps=epsilon)\n",
    "\n",
    "# same initialisation\n",
    "switch_full = deepcopy(switch_fixed_policies)\n",
    "# must be deepcopy of machine before training\n",
    "switch_machine = deepcopy(machine)\n"
   ]
  },
  {
   "source": [
    "### Train Steps"
   ],
   "cell_type": "markdown",
   "metadata": {}
  },
  {
   "cell_type": "code",
   "execution_count": 8,
   "metadata": {},
   "outputs": [],
   "source": [
    "n_traj = 0\n",
    "n_episodes = 2000"
   ]
  },
  {
   "source": [
    "### Gather human traces"
   ],
   "cell_type": "markdown",
   "metadata": {}
  },
  {
   "cell_type": "code",
   "execution_count": 6,
   "metadata": {},
   "outputs": [
    {
     "output_type": "stream",
     "name": "stdout",
     "text": [
      "Wall time: 8 ms\n"
     ]
    }
   ],
   "source": [
    "%%time\n",
    "# gather human trajectories\n",
    "trajectories = gather_human_trajectories(human, env_generator, n_traj,**env_params)\n",
    "# save for later\n",
    "with open(f'{ROOT_DIR}/outputs/trajectories/human_{estimation_noise}_{switching_noise}_{init_traffic_level}_trajectories_{n_traj}', 'wb') as file:\n",
    "    pickle.dump(trajectories, file, pickle.HIGHEST_PROTOCOL)\n",
    "with open(f'{ROOT_DIR}/outputs/trajectories/human_{estimation_noise}_{switching_noise}_{init_traffic_level}_trajectories_{n_traj}_agent', 'wb') as file:\n",
    "    pickle.dump(human, file, pickle.HIGHEST_PROTOCOL)\n",
    "    "
   ]
  },
  {
   "cell_type": "code",
   "execution_count": 9,
   "metadata": {},
   "outputs": [],
   "source": [
    "\n",
    "with open(f'{ROOT_DIR}/outputs/trajectories/human_{estimation_noise}_{switching_noise}_{init_traffic_level}_trajectories_{n_traj}', 'rb') as file:\n",
    "    trajectories = pickle.load(file)\n",
    "with open(f'{ROOT_DIR}/outputs/trajectories/human_{estimation_noise}_{switching_noise}_{init_traffic_level}_trajectories_{n_traj}_agent', 'rb') as file:\n",
    "    human = pickle.load(file)"
   ]
  },
  {
   "source": [
    "### Evaluation Parametes"
   ],
   "cell_type": "markdown",
   "metadata": {}
  },
  {
   "cell_type": "code",
   "execution_count": 10,
   "metadata": {},
   "outputs": [],
   "source": [
    "n_eval_set_size = 1000\n",
    "eval_freq = 500\n",
    "save_freq = 5000\n",
    "eval_set = [ env_generator_fn() for i in range(n_eval_set_size)]"
   ]
  },
  {
   "source": [
    "### Training"
   ],
   "cell_type": "markdown",
   "metadata": {}
  },
  {
   "cell_type": "code",
   "execution_count": 11,
   "metadata": {
    "tags": []
   },
   "outputs": [
    {
     "output_type": "stream",
     "name": "stdout",
     "text": [
      "2021-05-21 20:56:56.327183, On-policy, Episode 500, pre_trained_machine  evaluation cost: -50.75700000000001\n",
      "2021-05-21 20:58:44.251356, On-policy, Episode 1000, pre_trained_machine  evaluation cost: -49.808000000000014\n",
      "2021-05-21 21:00:35.861740, On-policy, Episode 1500, pre_trained_machine  evaluation cost: -50.025000000000006\n"
     ]
    }
   ],
   "source": [
    "\n",
    "machine_only_algo = {'pre_trained_machine': (machine_only, [human, machine])}\n",
    "machine_only_algo, machine_only_costs = train(machine_only_algo, [], env_generator_fn, n_episodes, eval_set, eval_freq, save_freq)"
   ]
  },
  {
   "cell_type": "code",
   "execution_count": 12,
   "metadata": {},
   "outputs": [
    {
     "output_type": "execute_result",
     "data": {
      "text/plain": [
       "-49.96500000000001"
      ]
     },
     "metadata": {},
     "execution_count": 12
    }
   ],
   "source": [
    "evaluate(machine_only,[human, machine],eval_set )"
   ]
  },
  {
   "cell_type": "code",
   "execution_count": 9,
   "metadata": {},
   "outputs": [
    {
     "output_type": "stream",
     "name": "stdout",
     "text": [
      "2021-05-20 15:21:30.922754, On-policy, Episode 1000, pre_trained_machine  evaluation cost: 38.038\n",
      "2021-05-20 15:23:42.769296, On-policy, Episode 2000, pre_trained_machine  evaluation cost: 37.848\n",
      "2021-05-20 15:25:55.813905, On-policy, Episode 3000, pre_trained_machine  evaluation cost: 38.12\n",
      "2021-05-20 15:28:08.778510, On-policy, Episode 4000, pre_trained_machine  evaluation cost: 38.686\n",
      "Wall time: 11min 10s\n"
     ]
    }
   ],
   "source": [
    "%%time \n",
    "machine_only_algo, machine_only_costs = train(machine_only_algo, trajectories, env_generator_fn, n_episodes, eval_set, eval_freq, save_freq)"
   ]
  },
  {
   "cell_type": "code",
   "execution_count": null,
   "metadata": {},
   "outputs": [],
   "source": []
  },
  {
   "cell_type": "code",
   "execution_count": 18,
   "metadata": {},
   "outputs": [
    {
     "output_type": "stream",
     "name": "stdout",
     "text": [
      "Wall time: 4min 5s\n"
     ]
    }
   ],
   "source": [
    "%%time\n",
    "\n",
    "machine.trainable = False\n",
    "algos = {'fixed_policies': (switch_fixed_policies,[human, machine]), 'switching':( switch_full,[human, switch_machine]) }\n",
    "\n",
    "algos, algos_costs = train(algos, trajectories, env_generator_fn, n_episodes, eval_set, eval_freq, save_freq)\n"
   ]
  },
  {
   "source": [
    "# Playground"
   ],
   "cell_type": "markdown",
   "metadata": {}
  },
  {
   "cell_type": "code",
   "execution_count": 4,
   "metadata": {},
   "outputs": [
    {
     "output_type": "execute_result",
     "data": {
      "text/plain": [
       "[35.658,\n",
       " 23.038,\n",
       " 22.272,\n",
       " 31.012000000000004,\n",
       " 19.382,\n",
       " 17.158,\n",
       " 36.63,\n",
       " 18.792,\n",
       " 29.298000000000005,\n",
       " 37.56]"
      ]
     },
     "metadata": {},
     "execution_count": 4
    }
   ],
   "source": [
    " on_off = 'off'\n",
    " name = 'pre_trained_machine'\n",
    " with open(f'{ROOT_DIR}/outputs/agents/{name}/costs_'+on_off, 'rb') as file:\n",
    "    costs = pickle.load(file)\n",
    "\n",
    "costs"
   ]
  },
  {
   "cell_type": "code",
   "execution_count": 3,
   "metadata": {},
   "outputs": [
    {
     "output_type": "stream",
     "name": "stdout",
     "text": [
      "2021-05-17 20:45:13.320152, Episode 1000, Fully automated on-policy algorithm cumulative cost: 35535.8\n",
      "2021-05-17 20:47:13.406020, Episode 2000, Fully automated on-policy algorithm cumulative cost: 72123.8\n",
      "2021-05-17 20:49:16.207044, Episode 3000, Fully automated on-policy algorithm cumulative cost: 109591.80000000002\n",
      "2021-05-17 20:51:19.102073, Episode 4000, Fully automated on-policy algorithm cumulative cost: 147059.8\n",
      "Wall time: 29min 1s\n"
     ]
    }
   ],
   "source": [
    "%%time\n",
    "fully_automated, [human, machine] , fully_automated_costs = run_pre_train_machine(fully_automated, [human, machine], trajectories, env_generator_fn, n_episodes)"
   ]
  },
  {
   "cell_type": "code",
   "execution_count": 23,
   "metadata": {},
   "outputs": [
    {
     "output_type": "stream",
     "name": "stdout",
     "text": [
      "39.8 57.8\n"
     ]
    }
   ],
   "source": [
    "from plot.plot_path import PlotPath\n",
    "from experiments.utils import *\n",
    "gird_world = env_generator_fn()\n",
    "plt_path = PlotPath(gird_world, n_try=1)\n",
    "plt_path1 = PlotPath(gird_world, n_try=1)\n",
    "\n",
    "\n",
    "\n",
    "cost = learn_evaluate(fully_automated, [human, machine] ,gird_world , \n",
    "is_learn=False, plt_path = plt_path, machine_only=True)\n",
    "\n",
    "cost1 = learn_evaluate(f_a, [human,  switch_machine] ,gird_world ,\n",
    "is_learn=False, plt_path = plt_path1)\n",
    "\n",
    "plt_path.plot('../machine_only_light.png')\n",
    "plt_path1.plot('../machine_dummy_only_light.png')\n",
    "\n",
    "print(cost, cost1)"
   ]
  },
  {
   "cell_type": "code",
   "execution_count": 22,
   "metadata": {},
   "outputs": [
    {
     "output_type": "stream",
     "name": "stdout",
     "text": [
      "0.51\n",
      "27.799999999999997 35.800000000000004\n",
      "0.59\n",
      "17.799999999999997 19.799999999999994\n",
      "0.45\n",
      "27.79999999999999 31.799999999999994\n",
      "0.46\n",
      "39.80000000000002 41.800000000000004\n",
      "0.57\n",
      "35.8 17.799999999999997\n",
      "0.46\n",
      "61.800000000000026 63.80000000000001\n",
      "0.47\n",
      "21.799999999999997 41.8\n",
      "0.39\n",
      "21.79999999999999 15.799999999999997\n",
      "0.54\n",
      "41.8 47.8\n",
      "0.55\n",
      "9.799999999999999 21.799999999999994\n",
      "0.499\n"
     ]
    }
   ],
   "source": [
    "res = []\n",
    "for _ in range(10):\n",
    "    is_better = 0\n",
    "    for i in range(100):\n",
    "        gird_world = env_generator_fn()\n",
    "        cost = learn_evaluate(fully_automated, [human, machine] ,gird_world , \n",
    "        is_learn=False, plt_path = plt_path, machine_only=True)\n",
    "\n",
    "        cost1 = learn_evaluate(f_a, [human,  switch_machine] ,gird_world , \n",
    "        is_learn=False, plt_path = plt_path1)\n",
    "\n",
    "        is_better+= (cost1 >= cost)\n",
    "\n",
    "    print(is_better/100)\n",
    "    res.append(is_better/100)\n",
    "    print(cost, cost1)\n",
    "print(np.mean(res))"
   ]
  },
  {
   "source": [
    "10000 off 15000 on\n",
    "0.56\n",
    "0.46\n",
    "0.47\n",
    "0.55\n",
    "0.52\n",
    "0.55\n",
    "0.51\n",
    "0.44\n",
    "0.57\n",
    "0.6\n",
    "0.523"
   ],
   "cell_type": "markdown",
   "metadata": {}
  },
  {
   "cell_type": "code",
   "execution_count": 8,
   "metadata": {},
   "outputs": [
    {
     "output_type": "execute_result",
     "data": {
      "text/plain": [
       "tensor(False)"
      ]
     },
     "metadata": {},
     "execution_count": 8
    }
   ],
   "source": [
    "from copy import deepcopy\n",
    "import torch\n",
    "a = MachineDriverAgent(n_state_features, n_actions, optimizer_fn, c_M=0.2)\n",
    "b = deepcopy(a)\n",
    "torch.all(list(switch_machine.network.parameters())[0] == list(machine.network.parameters())[0])"
   ]
  },
  {
   "cell_type": "code",
   "execution_count": 24,
   "metadata": {},
   "outputs": [
    {
     "output_type": "execute_result",
     "data": {
      "text/plain": [
       "tensor([4.2675e-14, 0.0000e+00, 2.3021e-14])"
      ]
     },
     "metadata": {},
     "execution_count": 24
    }
   ],
   "source": [
    "(list(machine.network.parameters())[3]).grad"
   ]
  },
  {
   "cell_type": "code",
   "execution_count": 21,
   "metadata": {},
   "outputs": [
    {
     "output_type": "execute_result",
     "data": {
      "text/plain": [
       "(Parameter containing:\n",
       " tensor([0., 0., 0.], requires_grad=True),\n",
       " tensor([-7.8448e-18,  0.0000e+00,  1.1218e-24]))"
      ]
     },
     "metadata": {},
     "execution_count": 21
    }
   ],
   "source": [
    "list(switch_machine.network.parameters())[3],list(machine.network.parameters())[3].grad"
   ]
  },
  {
   "cell_type": "code",
   "execution_count": null,
   "metadata": {},
   "outputs": [],
   "source": []
  }
 ]
}