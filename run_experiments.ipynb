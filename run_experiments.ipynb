{
 "metadata": {
  "language_info": {
   "codemirror_mode": {
    "name": "ipython",
    "version": 3
   },
   "file_extension": ".py",
   "mimetype": "text/x-python",
   "name": "python",
   "nbconvert_exporter": "python",
   "pygments_lexer": "ipython3",
   "version": "3.8.10"
  },
  "orig_nbformat": 2,
  "kernelspec": {
   "name": "python3810jvsc74a57bd0f23faf4bfe871c203c8bec80520af5927fc7cb1ae3bd834ddf554ee587ad1c05",
   "display_name": "Python 3.8.10 64-bit"
  }
 },
 "nbformat": 4,
 "nbformat_minor": 2,
 "cells": [
  {
   "cell_type": "code",
   "execution_count": 3,
   "metadata": {},
   "outputs": [
    {
     "output_type": "execute_result",
     "data": {
      "text/plain": [
       "<torch._C.Generator at 0x6182f30>"
      ]
     },
     "metadata": {},
     "execution_count": 3
    }
   ],
   "source": [
    "from experiments.pre_train_machine_policy import run_pre_train_machine\n",
    "from experiments.utils import *\n",
    "from agent.agents import *\n",
    "from agent.switching_agents import *\n",
    "from environments.env import * \n",
    "from definitions import ROOT_DIR\n",
    "\n",
    "from torch.optim import RMSprop\n",
    "import numpy as np\n",
    "import random \n",
    "import torch\n",
    "import pickle\n",
    "\n",
    "np.random.seed(12345678)\n",
    "random.seed(12345678)\n",
    "torch.manual_seed(12345678)\n"
   ]
  },
  {
   "source": [
    "## Train baselines and 2-stage algorithm"
   ],
   "cell_type": "markdown",
   "metadata": {}
  },
  {
   "cell_type": "code",
   "execution_count": 2,
   "metadata": {},
   "outputs": [
    {
     "output_type": "stream",
     "name": "stdout",
     "text": [
      "1000\n"
     ]
    },
    {
     "output_type": "error",
     "ename": "NameError",
     "evalue": "name 'pickle' is not defined",
     "traceback": [
      "\u001b[1;31m---------------------------------------------------------------------------\u001b[0m",
      "\u001b[1;31mNameError\u001b[0m                                 Traceback (most recent call last)",
      "\u001b[1;32m<ipython-input-2-473c2461d900>\u001b[0m in \u001b[0;36m<module>\u001b[1;34m\u001b[0m\n\u001b[0;32m     36\u001b[0m \u001b[1;33m\u001b[0m\u001b[0m\n\u001b[0;32m     37\u001b[0m \u001b[1;32mwith\u001b[0m \u001b[0mopen\u001b[0m\u001b[1;33m(\u001b[0m\u001b[1;34mf'{ROOT_DIR}/outputs/human_trajectories_{n_traj}'\u001b[0m\u001b[1;33m,\u001b[0m \u001b[1;34m'wb'\u001b[0m\u001b[1;33m)\u001b[0m \u001b[1;32mas\u001b[0m \u001b[0mfile\u001b[0m\u001b[1;33m:\u001b[0m\u001b[1;33m\u001b[0m\u001b[1;33m\u001b[0m\u001b[0m\n\u001b[1;32m---> 38\u001b[1;33m     \u001b[0mpickle\u001b[0m\u001b[1;33m.\u001b[0m\u001b[0mdump\u001b[0m\u001b[1;33m(\u001b[0m\u001b[0mtrajectories\u001b[0m\u001b[1;33m,\u001b[0m \u001b[0mfile\u001b[0m\u001b[1;33m,\u001b[0m \u001b[0mpickle\u001b[0m\u001b[1;33m.\u001b[0m\u001b[0mHIGHEST_PROTOCOL\u001b[0m\u001b[1;33m)\u001b[0m\u001b[1;33m\u001b[0m\u001b[1;33m\u001b[0m\u001b[0m\n\u001b[0m",
      "\u001b[1;31mNameError\u001b[0m: name 'pickle' is not defined"
     ]
    }
   ],
   "source": [
    "env_genrator = Environment()\n",
    "width = 3\n",
    "height = 20\n",
    "depth = height//3\n",
    "init_traffic_level = 'light'\n",
    "env_params = {'width' : width, 'height':height, 'init_traffic_level': init_traffic_level, 'depth': depth}\n",
    "env_generator_fn = lambda:env_genrator.generate_grid_world(**env_params)\n",
    "\n",
    "n_traj = 10000\n",
    "n_episodes = 5000\n",
    "\n",
    "human  = NoisyDriverAgent(env_genrator, noise_sd=2.0, noise_sw=2.0, c_H=0.0)\n",
    "# gather human trajectories\n",
    "trajectories = gather_human_trajectories(human, env_genrator, n_traj,**env_params)\n",
    "\n",
    "\n",
    "# define state size \n",
    "n_state_features_strings = 1 + depth*(width + 1)\n",
    "\n",
    "# define state size in 1-hot encoding\n",
    "n_cell_types = len(env_genrator.cell_types)\n",
    "n_traffic_levels = len(env_genrator.traffic_levels)\n",
    "n_state_features_1hot =  n_cell_types + depth*( n_traffic_levels + 1 + width*(n_cell_types + 1)) \n",
    "\n",
    "n_state_features = (n_state_features_strings, n_state_features_1hot)\n",
    "\n",
    "n_actions = 3\n",
    "\n",
    "lr = 1e-4\n",
    "optimizer_fn = lambda params: RMSprop(params, lr)\n",
    "\n",
    "machine = MachineDriverAgent(n_state_features, n_actions, optimizer_fn, c_M=0.2)\n",
    "fully_automated = FixedSwitchingMachine(n_state_features, optimizer_fn)\n",
    "\n",
    "\n",
    "\n",
    "with open(f'{ROOT_DIR}/outputs/human_trajectories_{n_traj}', 'wb') as file:\n",
    "    pickle.dump(trajectories, file, pickle.HIGHEST_PROTOCOL)"
   ]
  },
  {
   "cell_type": "code",
   "execution_count": 5,
   "metadata": {},
   "outputs": [
    {
     "output_type": "stream",
     "name": "stdout",
     "text": [
      "2021-05-17 19:16:47.324666, Episode 1000, Fully automated on-policy algorithm cumulative cost: 36833.8\n"
     ]
    }
   ],
   "source": [
    "fully_automated, [human, machine] , fully_automated_costs = run_pre_train_machine(fully_automated, [human, machine], trajectories, env_generator_fn, n_episodes)"
   ]
  },
  {
   "cell_type": "code",
   "execution_count": 20,
   "metadata": {},
   "outputs": [
    {
     "output_type": "stream",
     "name": "stdout",
     "text": [
      "23.799999999999994\n"
     ]
    }
   ],
   "source": [
    "from plot.plot_path import PlotPath\n",
    "from experiments.utils import *\n",
    "gird_world = env_generator_fn()\n",
    "plt_path = PlotPath(gird_world, n_try=1)\n",
    "\n",
    "\n",
    "cost = learn_evaluate(fully_automated, [human, machine] ,gird_world , \n",
    "is_learn=False, plt_path = plt_path)\n",
    "plt_path.plot('../machine_only_light.png')\n",
    "print(cost)"
   ]
  },
  {
   "cell_type": "code",
   "execution_count": null,
   "metadata": {},
   "outputs": [],
   "source": []
  }
 ]
}